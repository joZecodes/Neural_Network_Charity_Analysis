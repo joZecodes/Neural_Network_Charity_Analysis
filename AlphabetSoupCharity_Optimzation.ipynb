{
 "cells": [
  {
   "cell_type": "code",
   "execution_count": null,
   "id": "a059acd7",
   "metadata": {},
   "outputs": [],
   "source": [
    "# Import our dependencies\n",
    "from sklearn.model_selection import train_test_split\n",
    "from sklearn.preprocessing import StandardScaler,OneHotEncoder\n",
    "import pandas as pd\n",
    "import tensorflow as tf\n",
    "# Import checkpoint dependencies\n",
    "import os\n",
    "from tensorflow.keras.callbacks import ModelCheckpoint\n",
    "\n",
    "#  Import and read the charity_data.csv.\n",
    "import pandas as pd \n",
    "application_df = pd.read_csv(\"Resources/charity_data.csv\")\n",
    "application_df.head()"
   ]
  },
  {
   "cell_type": "code",
   "execution_count": null,
   "id": "9e61120f",
   "metadata": {},
   "outputs": [],
   "source": [
    "# Drop the non-beneficial ID columns, 'EIN' and 'NAME'.\n",
    "application_df = application_df.drop(columns=[\"EIN\", \"NAME\"], axis=1)\n",
    "application_df.head()"
   ]
  },
  {
   "cell_type": "code",
   "execution_count": null,
   "id": "2e253197",
   "metadata": {},
   "outputs": [],
   "source": [
    "# Determine the number of unique values in each column.\n",
    "application_df.nunique()"
   ]
  },
  {
   "cell_type": "code",
   "execution_count": null,
   "id": "3fb960df",
   "metadata": {},
   "outputs": [],
   "source": [
    "inc_amt_counts = application_df.INCOME_AMT.value_counts()\n",
    "inc_amt_counts\n"
   ]
  },
  {
   "cell_type": "code",
   "execution_count": null,
   "id": "094f925b",
   "metadata": {},
   "outputs": [],
   "source": [
    "# Look at ASK_AMT value counts for binning\n",
    "ask_amt_counts = application_df.ASK_AMT.value_counts()\n",
    "ask_amt_counts"
   ]
  },
  {
   "cell_type": "code",
   "execution_count": null,
   "id": "1478cf42",
   "metadata": {},
   "outputs": [],
   "source": [
    "# Visualize the value counts of ASK_AMT\n",
    "ask_amt_counts.plot.density()"
   ]
  },
  {
   "cell_type": "code",
   "execution_count": null,
   "id": "2c456334",
   "metadata": {},
   "outputs": [],
   "source": [
    "# Determine which values to replace if counts are less than ...?\n",
    "replace_ask_amt = list(ask_amt_counts[ask_amt_counts < 1000].index)\n",
    "\n",
    "# Replace in dataframe\n",
    "for amt in replace_ask_amt:\n",
    "    if amt <= 49999:\n",
    "        application_df.ASK_AMT = application_df.ASK_AMT.replace(amt,str(\"5001-49999\"))\n",
    "    elif amt < 99999:\n",
    "        application_df.ASK_AMT = application_df.ASK_AMT.replace(amt,str(\"50000-99999\"))\n",
    "    elif amt < 499999:\n",
    "        application_df.ASK_AMT = application_df.ASK_AMT.replace(amt,str(\"100000-499999\"))\n",
    "    elif amt < 999999:\n",
    "        application_df.ASK_AMT = application_df.ASK_AMT.replace(amt,str(\"500000-999999\"))\n",
    "    elif amt < 4999999:\n",
    "        application_df.ASK_AMT = application_df.ASK_AMT.replace(amt,str(\"1M-5M\"))\n",
    "    else:\n",
    "        application_df.ASK_AMT = application_df.ASK_AMT.replace(amt,str(\"5M+\"))\n",
    "    \n",
    "application_df.ASK_AMT = application_df.ASK_AMT.astype(str)\n",
    "\n",
    "# Check to make sure binning was successful\n",
    "application_df.ASK_AMT.value_counts()"
   ]
  },
  {
   "cell_type": "code",
   "execution_count": null,
   "id": "b91abe65",
   "metadata": {},
   "outputs": [],
   "source": [
    "# Look at APPLICATION_TYPE value counts for binning\n",
    "application_counts = application_df.APPLICATION_TYPE.value_counts()\n",
    "application_counts"
   ]
  },
  {
   "cell_type": "code",
   "execution_count": null,
   "id": "e1a56010",
   "metadata": {},
   "outputs": [],
   "source": []
  }
 ],
 "metadata": {
  "kernelspec": {
   "display_name": "mlenv",
   "language": "python",
   "name": "mlenv"
  },
  "language_info": {
   "codemirror_mode": {
    "name": "ipython",
    "version": 3
   },
   "file_extension": ".py",
   "mimetype": "text/x-python",
   "name": "python",
   "nbconvert_exporter": "python",
   "pygments_lexer": "ipython3",
   "version": "3.7.13"
  }
 },
 "nbformat": 4,
 "nbformat_minor": 5
}
